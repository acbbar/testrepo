{
 "cells": [
  {
   "cell_type": "code",
   "execution_count": null,
   "id": "30161ded-035f-4a70-8d91-f4d8d884583e",
   "metadata": {},
   "outputs": [],
   "source": [
    "# Create a new Jupyter notebook called DataScienceEcosystem.ipynb"
   ]
  },
  {
   "cell_type": "markdown",
   "id": "2ce9afc5-b01a-4ead-81ae-9c7509c4affc",
   "metadata": {},
   "source": [
    "## Data Science Tools and Eosystem"
   ]
  },
  {
   "cell_type": "markdown",
   "id": "f42fa2e9-da2a-45a7-887e-a797573fd605",
   "metadata": {},
   "source": [
    "In this notebook, Data Science Tools and Ecosystem are summarized."
   ]
  },
  {
   "cell_type": "markdown",
   "id": "d19b1725-ee73-410b-98f2-10a2661f0597",
   "metadata": {},
   "source": [
    "**Objectives:**\n",
    "\n",
    "-List popular languages for Data Science\n",
    "\n",
    "-Some of the commonly used libraries by Data Scientists\n",
    "\n",
    "-Examples of evaluating arithmetic expressions in Python\n"
   ]
  },
  {
   "cell_type": "markdown",
   "id": "9aecdde5-9a42-404a-8655-ea288f426ba0",
   "metadata": {},
   "source": [
    "## Author\n",
    "Acbbar Khan"
   ]
  },
  {
   "cell_type": "markdown",
   "id": "caa90037-cb20-4218-aae4-8d20693e045e",
   "metadata": {},
   "source": [
    "Some of the popular languages that Data Scientists use are:\n",
    "1. Python\n",
    "2. R\n",
    "3. C++\n",
    "4. Deeplearning4"
   ]
  },
  {
   "cell_type": "markdown",
   "id": "6d914899-5c64-4c41-bebc-5f47d39de682",
   "metadata": {},
   "source": [
    "Some of the commonly used libraries by Data Scientists include:\n",
    "1. Matplotlib\n",
    "2. NumPy\n",
    "3. Pandas\n",
    "4. Scikit-Learn"
   ]
  },
  {
   "cell_type": "markdown",
   "id": "5009fbf8-93ac-4c87-be4e-b536db34fd00",
   "metadata": {},
   "source": [
    "|Data Science Tools|\n",
    "|---|\n",
    "|GitHub|\n",
    "|JupyterLab|\n",
    "|VSCode|"
   ]
  },
  {
   "cell_type": "markdown",
   "id": "f02243cd-b0a2-42be-9852-fd276183c043",
   "metadata": {},
   "source": [
    "### H3 Below are a few examples of evaluating arithmetic expressions in Python:"
   ]
  },
  {
   "cell_type": "code",
   "execution_count": 14,
   "id": "14656503-fde8-42b2-bda6-00ed3f8d0681",
   "metadata": {},
   "outputs": [
    {
     "data": {
      "text/plain": [
       "17"
      ]
     },
     "execution_count": 14,
     "metadata": {},
     "output_type": "execute_result"
    }
   ],
   "source": [
    "# \"This a simple arithmetic expression to mutiply then add integers\"\n",
    "(3*4)+5"
   ]
  },
  {
   "cell_type": "code",
   "execution_count": 20,
   "id": "0f1aa1a9-be3e-4b9a-9db1-19c2cffc9369",
   "metadata": {},
   "outputs": [
    {
     "data": {
      "text/plain": [
       "3.3333333333333335"
      ]
     },
     "execution_count": 20,
     "metadata": {},
     "output_type": "execute_result"
    }
   ],
   "source": [
    "# This will convert 200 minutes to hours by diving by 60\n",
    "min = 200\n",
    "hours = min / 60\n",
    "hours"
   ]
  }
 ],
 "metadata": {
  "kernelspec": {
   "display_name": "Python 3 (ipykernel)",
   "language": "python",
   "name": "python3"
  },
  "language_info": {
   "codemirror_mode": {
    "name": "ipython",
    "version": 3
   },
   "file_extension": ".py",
   "mimetype": "text/x-python",
   "name": "python",
   "nbconvert_exporter": "python",
   "pygments_lexer": "ipython3",
   "version": "3.12.4"
  }
 },
 "nbformat": 4,
 "nbformat_minor": 5
}
